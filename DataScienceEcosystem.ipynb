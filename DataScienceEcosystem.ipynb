{
 "cells": [
  {
   "cell_type": "code",
   "execution_count": 1,
   "id": "cea89a3f",
   "metadata": {},
   "outputs": [],
   "source": [
    "{\n",
    "    \"cells\": [\n",
    "        {\n",
    "            \"cell_type\": \"markdown\",\n",
    "            \"metadata\": {\n",
    "                \"collapsed\": true\n",
    "            },\n",
    "            \"source\": \"# Data Science Tools and Ecosystem\"\n",
    "        },"
   ]
  },
  {
   "cell_type": "code",
   "execution_count": 5,
   "id": "b47a619e",
   "metadata": {},
   "outputs": [
    {
     "data": {
      "text/plain": [
       "({'cell_type': 'markdown',\n",
       "  'metadata': {},\n",
       "  'source': 'In this notebook, Data Science Tools and Ecosystem are summarized.'},)"
      ]
     },
     "execution_count": 5,
     "metadata": {},
     "output_type": "execute_result"
    }
   ],
   "source": [
    "  {\n",
    "            \"cell_type\": \"markdown\",\n",
    "            \"metadata\": {},\n",
    "            \"source\": \"In this notebook, Data Science Tools and Ecosystem are summarized.\"\n",
    "        },"
   ]
  },
  {
   "cell_type": "code",
   "execution_count": 6,
   "id": "7de18188",
   "metadata": {},
   "outputs": [
    {
     "data": {
      "text/plain": [
       "({'cell_type': 'markdown',\n",
       "  'metadata': {},\n",
       "  'source': '**Some of the popular languages that Data Scientists use are:**\\n1. python\\n2. SQL\\n3. R'},)"
      ]
     },
     "execution_count": 6,
     "metadata": {},
     "output_type": "execute_result"
    }
   ],
   "source": [
    " {\n",
    "            \"cell_type\": \"markdown\",\n",
    "            \"metadata\": {},\n",
    "            \"source\": \"**Some of the popular languages that Data Scientists use are:**\\n1. python\\n2. SQL\\n3. R\"\n",
    "        },\n"
   ]
  },
  {
   "cell_type": "code",
   "execution_count": 7,
   "id": "1e4a0a0d",
   "metadata": {},
   "outputs": [
    {
     "data": {
      "text/plain": [
       "({'cell_type': 'markdown',\n",
       "  'metadata': {},\n",
       "  'source': '**Some of the commonly used libraries used by Data Scientists include:**\\n \\n 1. TensorFlow. \\n 2. SciPy. \\n 3. NumPy. \\n 4. Pandas. \\n 5. Pytorch'},)"
      ]
     },
     "execution_count": 7,
     "metadata": {},
     "output_type": "execute_result"
    }
   ],
   "source": [
    " {\n",
    "            \"cell_type\": \"markdown\",\n",
    "            \"metadata\": {},\n",
    "            \"source\": \"**Some of the commonly used libraries used by Data Scientists include:**\\n \\n 1. TensorFlow. \\n 2. SciPy. \\n 3. NumPy. \\n 4. Pandas. \\n 5. Pytorch\"\n",
    "        },\n",
    "    "
   ]
  },
  {
   "cell_type": "code",
   "execution_count": 8,
   "id": "13b26bfd",
   "metadata": {},
   "outputs": [
    {
     "data": {
      "text/plain": [
       "({'cell_type': 'markdown',\n",
       "  'metadata': {},\n",
       "  'source': '**Data Science Tools**\\n|Data Science Tools|\\n|-|\\n|Jupyter Notebook|\\n|RStudio|\\n|Apache Spark|\\n'},)"
      ]
     },
     "execution_count": 8,
     "metadata": {},
     "output_type": "execute_result"
    }
   ],
   "source": [
    "{\n",
    "            \"cell_type\": \"markdown\",\n",
    "            \"metadata\": {},\n",
    "            \"source\": \"**Data Science Tools**\\n|Data Science Tools|\\n|-|\\n|Jupyter Notebook|\\n|RStudio|\\n|Apache Spark|\\n\"\n",
    "        },"
   ]
  },
  {
   "cell_type": "code",
   "execution_count": 9,
   "id": "51e56671",
   "metadata": {},
   "outputs": [
    {
     "data": {
      "text/plain": [
       "({'cell_type': 'markdown',\n",
       "  'metadata': {},\n",
       "  'source': '### Below are a few examples of evaluating arithmetic expressions in Python.\\n'},)"
      ]
     },
     "execution_count": 9,
     "metadata": {},
     "output_type": "execute_result"
    }
   ],
   "source": [
    " {\n",
    "            \"cell_type\": \"markdown\",\n",
    "            \"metadata\": {},\n",
    "            \"source\": \"### Below are a few examples of evaluating arithmetic expressions in Python.\\n\"\n",
    "        },"
   ]
  },
  {
   "cell_type": "code",
   "execution_count": 11,
   "id": "8b067ff3",
   "metadata": {},
   "outputs": [
    {
     "data": {
      "text/plain": [
       "({'cell_type': 'code',\n",
       "  'execution_count': 7,\n",
       "  'metadata': {},\n",
       "  'outputs': [{'name': 'stdout',\n",
       "    'output_type': 'stream',\n",
       "    'text': '17\\nTrue\\n'}],\n",
       "  'source': '# This a simple arithmetic expression to mutiply then add integers\\neval = (3*4)+5\\nprint(eval)\\nprint(eval==17)'},)"
      ]
     },
     "execution_count": 11,
     "metadata": {},
     "output_type": "execute_result"
    }
   ],
   "source": [
    "  {\n",
    "            \"cell_type\": \"code\",\n",
    "            \"execution_count\": 7,\n",
    "            \"metadata\": {},\n",
    "            \"outputs\": [\n",
    "                {\n",
    "                    \"name\": \"stdout\",\n",
    "                    \"output_type\": \"stream\",\n",
    "                    \"text\": \"17\\nTrue\\n\"\n",
    "                }\n",
    "            ],\n",
    "            \"source\": \"# This a simple arithmetic expression to mutiply then add integers\\neval = (3*4)+5\\nprint(eval)\\nprint(eval==17)\"\n",
    "        },"
   ]
  },
  {
   "cell_type": "code",
   "execution_count": 12,
   "id": "21145161",
   "metadata": {},
   "outputs": [
    {
     "data": {
      "text/plain": [
       "({'cell_type': 'code',\n",
       "  'execution_count': 8,\n",
       "  'metadata': {},\n",
       "  'outputs': [{'name': 'stdout',\n",
       "    'output_type': 'stream',\n",
       "    'text': '33.333333333333336\\n'}],\n",
       "  'source': '# This will convert 200 minutes to hours by diving by 60\\nprint(200 / 6)'},)"
      ]
     },
     "execution_count": 12,
     "metadata": {},
     "output_type": "execute_result"
    }
   ],
   "source": [
    "  {\n",
    "            \"cell_type\": \"code\",\n",
    "            \"execution_count\": 8,\n",
    "            \"metadata\": {},\n",
    "            \"outputs\": [\n",
    "                {\n",
    "                    \"name\": \"stdout\",\n",
    "                    \"output_type\": \"stream\",\n",
    "                    \"text\": \"33.333333333333336\\n\"\n",
    "                }\n",
    "            ],\n",
    "            \"source\": \"# This will convert 200 minutes to hours by diving by 60\\nprint(200 / 6)\"\n",
    "        },"
   ]
  },
  {
   "cell_type": "code",
   "execution_count": 13,
   "id": "2296ad70",
   "metadata": {},
   "outputs": [
    {
     "data": {
      "text/plain": [
       "({'cell_type': 'markdown',\n",
       "  'metadata': {},\n",
       "  'source': '**Objectives:**\\nList popular languages for Data Science.\\n- Python \\n- SQL\\n- R'},)"
      ]
     },
     "execution_count": 13,
     "metadata": {},
     "output_type": "execute_result"
    }
   ],
   "source": [
    "{\n",
    "            \"cell_type\": \"markdown\",\n",
    "            \"metadata\": {},\n",
    "            \"source\": \"**Objectives:**\\nList popular languages for Data Science.\\n- Python \\n- SQL\\n- R\"\n",
    "        },"
   ]
  },
  {
   "cell_type": "code",
   "execution_count": 14,
   "id": "477de381",
   "metadata": {},
   "outputs": [
    {
     "data": {
      "text/plain": [
       "({'cell_type': 'markdown', 'metadata': {}, 'source': '## Author '},)"
      ]
     },
     "execution_count": 14,
     "metadata": {},
     "output_type": "execute_result"
    }
   ],
   "source": [
    "  {\n",
    "            \"cell_type\": \"markdown\",\n",
    "            \"metadata\": {},\n",
    "            \"source\": \"## Author \"\n",
    "        },"
   ]
  },
  {
   "cell_type": "code",
   "execution_count": null,
   "id": "da1b67a8",
   "metadata": {},
   "outputs": [],
   "source": []
  }
 ],
 "metadata": {
  "kernelspec": {
   "display_name": "Python 3 (ipykernel)",
   "language": "python",
   "name": "python3"
  },
  "language_info": {
   "codemirror_mode": {
    "name": "ipython",
    "version": 3
   },
   "file_extension": ".py",
   "mimetype": "text/x-python",
   "name": "python",
   "nbconvert_exporter": "python",
   "pygments_lexer": "ipython3",
   "version": "3.10.9"
  }
 },
 "nbformat": 4,
 "nbformat_minor": 5
}
